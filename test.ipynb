{
 "cells": [
  {
   "cell_type": "code",
   "execution_count": 31,
   "metadata": {},
   "outputs": [],
   "source": [
    "from app_utils import *\n",
    "from stoned_utils import *\n",
    "from desc_utils import *\n",
    "from pca_utils import *\n",
    "import random\n",
    "\n",
    "def viz_random(mols, n_to_viz=9, n_rows=3, fp=None):\n",
    "\n",
    "    rand_mols = random.sample(mols, n_to_viz)\n",
    "    img = Draw.MolsToGridImage(rand_mols, molsPerRow=n_to_viz//n_rows, subImgSize=(400, 200), useSVG=True)\n",
    "    if fp is not None:\n",
    "        with open(fp, 'w') as f_handle:\n",
    "            f_handle.write(img.data)\n",
    "    return img"
   ]
  },
  {
   "cell_type": "code",
   "execution_count": 32,
   "metadata": {},
   "outputs": [],
   "source": [
    "# Get Starting SMILES and rdkit mols\n",
    "starter_set = pd.read_csv(\"SMILES/starter_smiles.txt\", header=None)[0].tolist()\n",
    "starter_mols = [Chem.MolFromSmiles(smi) for smi in starter_set]"
   ]
  },
  {
   "cell_type": "code",
   "execution_count": 39,
   "metadata": {},
   "outputs": [],
   "source": [
    "# Visualize random molecules\n",
    "start_image = viz_random(starter_mols, n_rows=5, n_to_viz=10, fp=\"start_image.svg\")"
   ]
  },
  {
   "cell_type": "code",
   "execution_count": 40,
   "metadata": {},
   "outputs": [],
   "source": [
    "# Get generated SMILES and rdkit mols\n",
    "gen_set = pd.read_csv(\"SMILES/strategic_gen_salts.txt\", header=None)[0].tolist()\n",
    "gen_mols = [Chem.MolFromSmiles(smi) for smi in gen_set]"
   ]
  },
  {
   "cell_type": "code",
   "execution_count": null,
   "metadata": {},
   "outputs": [],
   "source": [
    "# Visualize random molecules\n",
    "gen_image = viz_random(gen_mols, n_rows=5, n_to_viz=15, fp=\"gen_image.svg\")"
   ]
  },
  {
   "cell_type": "code",
   "execution_count": null,
   "metadata": {},
   "outputs": [],
   "source": []
  }
 ],
 "metadata": {
  "kernelspec": {
   "display_name": "dmref",
   "language": "python",
   "name": "python3"
  },
  "language_info": {
   "codemirror_mode": {
    "name": "ipython",
    "version": 3
   },
   "file_extension": ".py",
   "mimetype": "text/x-python",
   "name": "python",
   "nbconvert_exporter": "python",
   "pygments_lexer": "ipython3",
   "version": "3.10.9"
  },
  "orig_nbformat": 4,
  "vscode": {
   "interpreter": {
    "hash": "a07f6aad7a1ba3893fe49dd5de011b9dbd4f373042b56e1e8deb9e3c697fafd2"
   }
  }
 },
 "nbformat": 4,
 "nbformat_minor": 2
}
